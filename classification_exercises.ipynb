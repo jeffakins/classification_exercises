{
 "cells": [
  {
   "cell_type": "markdown",
   "id": "31c9ad20",
   "metadata": {},
   "source": [
    "# Classification Exercises"
   ]
  },
  {
   "cell_type": "code",
   "execution_count": 2,
   "id": "76805e88",
   "metadata": {},
   "outputs": [],
   "source": [
    "import numpy as np\n",
    "import pandas as pd\n",
    "import matplotlib.pyplot as plt\n",
    "import seaborn as sns\n",
    "import acquire as aq"
   ]
  },
  {
   "cell_type": "markdown",
   "id": "d327355f",
   "metadata": {},
   "source": [
    "### 1. In a jupyter notebook, classification_exercises.ipynb, use a python module (pydata or seaborn datasets) containing datasets as a source from the iris data. Create a pandas dataframe, df_iris, from this data."
   ]
  },
  {
   "cell_type": "markdown",
   "id": "8ef003b9",
   "metadata": {},
   "source": [
    "#### print the first 3 rows\n"
   ]
  },
  {
   "cell_type": "code",
   "execution_count": null,
   "id": "f852eb43",
   "metadata": {},
   "outputs": [],
   "source": [
    "iris_df  = sns.load_dataset('iris')\n",
    "\n",
    "iris_df.head(3)"
   ]
  },
  {
   "cell_type": "markdown",
   "id": "4d453a57",
   "metadata": {},
   "source": [
    "#### print the number of rows and columns (shape)\n"
   ]
  },
  {
   "cell_type": "code",
   "execution_count": null,
   "id": "a66d62d8",
   "metadata": {},
   "outputs": [],
   "source": [
    "iris_df.shape"
   ]
  },
  {
   "cell_type": "markdown",
   "id": "3cce1f90",
   "metadata": {},
   "source": [
    "#### print the column names\n"
   ]
  },
  {
   "cell_type": "code",
   "execution_count": null,
   "id": "fe6ce31d",
   "metadata": {},
   "outputs": [],
   "source": [
    "iris_df.nunique()"
   ]
  },
  {
   "cell_type": "markdown",
   "id": "db947683",
   "metadata": {},
   "source": [
    "#### print the data type of each column\n"
   ]
  },
  {
   "cell_type": "code",
   "execution_count": null,
   "id": "510211c0",
   "metadata": {},
   "outputs": [],
   "source": [
    "iris_df.info()"
   ]
  },
  {
   "cell_type": "markdown",
   "id": "7ea44c1e",
   "metadata": {},
   "source": [
    "#### print the summary statistics for each of the numeric variables. Would you recommend rescaling the data based on these statistics?"
   ]
  },
  {
   "cell_type": "code",
   "execution_count": null,
   "id": "2f5f3a5e",
   "metadata": {},
   "outputs": [],
   "source": [
    "iris_df.describe()"
   ]
  },
  {
   "cell_type": "markdown",
   "id": "bfa86ce2",
   "metadata": {},
   "source": [
    "### 2. Read the Table1_CustDetails table from the Excel_Exercises.xlsx file into a dataframe named df_excel.\n",
    "\n"
   ]
  },
  {
   "cell_type": "code",
   "execution_count": null,
   "id": "5136d7a9",
   "metadata": {},
   "outputs": [],
   "source": [
    "telco_df = pd.read_excel('Spreadsheets_Exercises_Jeff.xlsx')\n",
    "telco_df.head()"
   ]
  },
  {
   "cell_type": "markdown",
   "id": "6e6ba976",
   "metadata": {},
   "source": [
    "#### assign the first 100 rows to a new dataframe, df_excel_sample\n"
   ]
  },
  {
   "cell_type": "code",
   "execution_count": null,
   "id": "be811d98",
   "metadata": {},
   "outputs": [],
   "source": [
    "telco_df_sample = telco_df.iloc[0:100]\n",
    "telco_df_sample.shape"
   ]
  },
  {
   "cell_type": "markdown",
   "id": "40608dcc",
   "metadata": {},
   "source": [
    "#### print the number of rows of your original dataframe\n"
   ]
  },
  {
   "cell_type": "code",
   "execution_count": null,
   "id": "aa52c8c3",
   "metadata": {},
   "outputs": [],
   "source": [
    "telco_df.shape"
   ]
  },
  {
   "cell_type": "markdown",
   "id": "325876e5",
   "metadata": {},
   "source": [
    "#### print the first 5 column names\n"
   ]
  },
  {
   "cell_type": "code",
   "execution_count": null,
   "id": "82b21f28",
   "metadata": {},
   "outputs": [],
   "source": [
    "telco_df.columns[0:5]"
   ]
  },
  {
   "cell_type": "markdown",
   "id": "4e1612de",
   "metadata": {},
   "source": [
    "#### print the column names that have a data type of object\n"
   ]
  },
  {
   "cell_type": "code",
   "execution_count": null,
   "id": "5a002d20",
   "metadata": {},
   "outputs": [],
   "source": [
    "telco_df.dtypes[telco_df.dtypes == 'object']"
   ]
  },
  {
   "cell_type": "markdown",
   "id": "f961a255",
   "metadata": {},
   "source": [
    "#### compute the range for each of the numeric variables."
   ]
  },
  {
   "cell_type": "code",
   "execution_count": null,
   "id": "fa2a9f84",
   "metadata": {},
   "outputs": [],
   "source": [
    "telco_df.describe()\n",
    "numerics = telco_df.select_dtypes(include=[\"float64\", \"int64\"])\n",
    "numerics.max() - numerics.min()"
   ]
  },
  {
   "cell_type": "markdown",
   "id": "602c9c16",
   "metadata": {},
   "source": [
    "### 3. Read the data from this google sheet into a dataframe, df_google\n",
    "\n"
   ]
  },
  {
   "cell_type": "code",
   "execution_count": null,
   "id": "519f2acc",
   "metadata": {},
   "outputs": [],
   "source": [
    "sheet_url = 'https://docs.google.com/spreadsheets/d/1Uhtml8KY19LILuZsrDtlsHHDC9wuDGUSe8LTEwvdI5g/edit#gid=341089357'    \n",
    "\n",
    "csv_export_url = sheet_url.replace('/edit#gid=', '/export?format=csv&gid=')\n",
    "\n",
    "train_df = pd.read_csv(csv_export_url)\n",
    "train_df.head()"
   ]
  },
  {
   "cell_type": "markdown",
   "id": "46badfe2",
   "metadata": {},
   "source": [
    "#### print the first 3 rows\n"
   ]
  },
  {
   "cell_type": "code",
   "execution_count": null,
   "id": "350b3a65",
   "metadata": {},
   "outputs": [],
   "source": [
    "train_df.head(3)"
   ]
  },
  {
   "cell_type": "markdown",
   "id": "7501e660",
   "metadata": {},
   "source": [
    "#### print the number of rows and columns\n"
   ]
  },
  {
   "cell_type": "code",
   "execution_count": null,
   "id": "548f89a5",
   "metadata": {},
   "outputs": [],
   "source": [
    "train_df.shape"
   ]
  },
  {
   "cell_type": "markdown",
   "id": "869df94b",
   "metadata": {},
   "source": [
    "#### print the column names\n"
   ]
  },
  {
   "cell_type": "code",
   "execution_count": null,
   "id": "ce3ee1d7",
   "metadata": {},
   "outputs": [],
   "source": [
    "train_df.columns"
   ]
  },
  {
   "cell_type": "markdown",
   "id": "68d45319",
   "metadata": {},
   "source": [
    "#### print the data type of each column\n"
   ]
  },
  {
   "cell_type": "code",
   "execution_count": null,
   "id": "7415d425",
   "metadata": {},
   "outputs": [],
   "source": [
    "train_df.dtypes"
   ]
  },
  {
   "cell_type": "markdown",
   "id": "99958cd7",
   "metadata": {},
   "source": [
    "#### print the summary statistics for each of the numeric variables\n"
   ]
  },
  {
   "cell_type": "code",
   "execution_count": null,
   "id": "a84b7d89",
   "metadata": {},
   "outputs": [],
   "source": [
    "train_df.describe()"
   ]
  },
  {
   "cell_type": "markdown",
   "id": "e20932c5",
   "metadata": {},
   "source": [
    "#### print the unique values for each of your categorical variables"
   ]
  },
  {
   "cell_type": "code",
   "execution_count": null,
   "id": "8e43c698",
   "metadata": {},
   "outputs": [],
   "source": [
    "print(train_df.dtypes)\n",
    "#print(\"Name: \", train_df.Name.unique())\n",
    "print(\"Sex: \", train_df.Sex.unique())\n",
    "#print(\"Ticket: \", train_df.Ticket.unique())\n",
    "#print(\"Cabin: \", train_df.Cabin.unique())\n",
    "print(\"Embarked: \", train_df.Embarked.unique())"
   ]
  },
  {
   "cell_type": "code",
   "execution_count": null,
   "id": "f03c5798",
   "metadata": {},
   "outputs": [],
   "source": []
  },
  {
   "cell_type": "markdown",
   "id": "250e0c50",
   "metadata": {},
   "source": [
    "## Iris Data\n",
    "- Importing and cleaning the Iris Data"
   ]
  },
  {
   "cell_type": "markdown",
   "id": "276e7b71",
   "metadata": {},
   "source": [
    "### Using the Iris Data:\n",
    "- Use the function defined in acquire.py to load the iris data.\n",
    "- Drop the species_id and measurement_id columns.\n",
    "- Rename the species_name column to just species.\n",
    "- Create dummy variables of the species name.\n",
    "- Create a function named prep_iris that accepts the untransformed iris data, and returns the data with the transformations above applied.### "
   ]
  },
  {
   "cell_type": "code",
   "execution_count": 3,
   "id": "f44e046c",
   "metadata": {},
   "outputs": [
    {
     "data": {
      "text/html": [
       "<div>\n",
       "<style scoped>\n",
       "    .dataframe tbody tr th:only-of-type {\n",
       "        vertical-align: middle;\n",
       "    }\n",
       "\n",
       "    .dataframe tbody tr th {\n",
       "        vertical-align: top;\n",
       "    }\n",
       "\n",
       "    .dataframe thead th {\n",
       "        text-align: right;\n",
       "    }\n",
       "</style>\n",
       "<table border=\"1\" class=\"dataframe\">\n",
       "  <thead>\n",
       "    <tr style=\"text-align: right;\">\n",
       "      <th></th>\n",
       "      <th>species_id</th>\n",
       "      <th>measurement_id</th>\n",
       "      <th>sepal_length</th>\n",
       "      <th>sepal_width</th>\n",
       "      <th>petal_length</th>\n",
       "      <th>petal_width</th>\n",
       "      <th>species_name</th>\n",
       "    </tr>\n",
       "  </thead>\n",
       "  <tbody>\n",
       "    <tr>\n",
       "      <th>0</th>\n",
       "      <td>1</td>\n",
       "      <td>1</td>\n",
       "      <td>5.1</td>\n",
       "      <td>3.5</td>\n",
       "      <td>1.4</td>\n",
       "      <td>0.2</td>\n",
       "      <td>setosa</td>\n",
       "    </tr>\n",
       "    <tr>\n",
       "      <th>1</th>\n",
       "      <td>1</td>\n",
       "      <td>2</td>\n",
       "      <td>4.9</td>\n",
       "      <td>3.0</td>\n",
       "      <td>1.4</td>\n",
       "      <td>0.2</td>\n",
       "      <td>setosa</td>\n",
       "    </tr>\n",
       "    <tr>\n",
       "      <th>2</th>\n",
       "      <td>1</td>\n",
       "      <td>3</td>\n",
       "      <td>4.7</td>\n",
       "      <td>3.2</td>\n",
       "      <td>1.3</td>\n",
       "      <td>0.2</td>\n",
       "      <td>setosa</td>\n",
       "    </tr>\n",
       "    <tr>\n",
       "      <th>3</th>\n",
       "      <td>1</td>\n",
       "      <td>4</td>\n",
       "      <td>4.6</td>\n",
       "      <td>3.1</td>\n",
       "      <td>1.5</td>\n",
       "      <td>0.2</td>\n",
       "      <td>setosa</td>\n",
       "    </tr>\n",
       "    <tr>\n",
       "      <th>4</th>\n",
       "      <td>1</td>\n",
       "      <td>5</td>\n",
       "      <td>5.0</td>\n",
       "      <td>3.6</td>\n",
       "      <td>1.4</td>\n",
       "      <td>0.2</td>\n",
       "      <td>setosa</td>\n",
       "    </tr>\n",
       "  </tbody>\n",
       "</table>\n",
       "</div>"
      ],
      "text/plain": [
       "   species_id  measurement_id  sepal_length  sepal_width  petal_length  \\\n",
       "0           1               1           5.1          3.5           1.4   \n",
       "1           1               2           4.9          3.0           1.4   \n",
       "2           1               3           4.7          3.2           1.3   \n",
       "3           1               4           4.6          3.1           1.5   \n",
       "4           1               5           5.0          3.6           1.4   \n",
       "\n",
       "   petal_width species_name  \n",
       "0          0.2       setosa  \n",
       "1          0.2       setosa  \n",
       "2          0.2       setosa  \n",
       "3          0.2       setosa  \n",
       "4          0.2       setosa  "
      ]
     },
     "execution_count": 3,
     "metadata": {},
     "output_type": "execute_result"
    }
   ],
   "source": [
    "iris_df = aq.get_iris_data()\n",
    "iris_df.head()"
   ]
  },
  {
   "cell_type": "code",
   "execution_count": null,
   "id": "5622459d",
   "metadata": {},
   "outputs": [],
   "source": []
  }
 ],
 "metadata": {
  "kernelspec": {
   "display_name": "Python 3",
   "language": "python",
   "name": "python3"
  },
  "language_info": {
   "codemirror_mode": {
    "name": "ipython",
    "version": 3
   },
   "file_extension": ".py",
   "mimetype": "text/x-python",
   "name": "python",
   "nbconvert_exporter": "python",
   "pygments_lexer": "ipython3",
   "version": "3.8.8"
  }
 },
 "nbformat": 4,
 "nbformat_minor": 5
}
